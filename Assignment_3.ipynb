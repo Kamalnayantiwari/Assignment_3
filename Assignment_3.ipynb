{
 "cells": [
  {
   "cell_type": "code",
   "execution_count": null,
   "id": "16ec9282",
   "metadata": {},
   "outputs": [],
   "source": [
    "1.\n",
    "Explain with an example each when to use a for loop and a while loop?\n",
    "Ans: For loops are used when you have a known number of iterations or when you want to iterate through a sequence (list, tuple, string, etc.) to perform an action for each item in the sequence.\n",
    "Example:\n",
    "# print the numbers 0 to 9\n",
    "for i in range(10):\n",
    "    print(i)\n",
    "While loops are used when you want to keep executing a block of code as long as a certain condition is met.\n",
    "Example:\n",
    "# print the numbers 0 to 9\n",
    "i = 0\n",
    "while i < 10:\n",
    "    print(i)\n",
    "    i += 1\n",
    "It is important to keep in mind that while loops can lead to infinite loops if the termination condition is never met, so it's crucial to make sure that the condition eventually becomes false."
   ]
  },
  {
   "cell_type": "code",
   "execution_count": null,
   "id": "aa069891",
   "metadata": {},
   "outputs": [],
   "source": [
    "2.\n",
    "Write a python program to print the sum and product of the first 10 natural numbers using for and while loop?\n",
    "Ans: Here's an example using a for loop to print the sum and product of the first 10 natural numbers:\n",
    "sum = 0\n",
    "product = 1\n",
    "for i in range(1, 11):\n",
    "    sum += i\n",
    "    product *= i\n",
    "print(\"The sum of the first 10 natural numbers is:\", sum)\n",
    "print(\"The product of the first 10 natural numbers is:\", product)\n",
    "And here's an example using a while loop:\n",
    "sum = 0\n",
    "product = 1\n",
    "i = 1\n",
    "while i <= 10:\n",
    "    sum += i\n",
    "    product *= i\n",
    "    i += 1\n",
    "print(\"The sum of the first 10 natural numbers is:\", sum)\n",
    "print(\"The product of the first 10  natural numbers is:\", product)"
   ]
  },
  {
   "cell_type": "code",
   "execution_count": null,
   "id": "d5bb92ed",
   "metadata": {},
   "outputs": [],
   "source": [
    "3.\n",
    "Create a python program to compute the electricity bill for a household. The per-unit charges in rupees are as follows: For the first 100 units, the user will be charged Rs. 4.5 per unit, for the next 100 units, the user will be charged Rs. 6 per unit, and for the next 100 units, the user will be charged Rs. 10 per unit, After 300 units and above the user will be charged Rs. 20 per unit. You are required to take the units of electricity consumed in a month from the user as input. Your program must pass this test case: when the unit of electricity consumed by the user in a month is 310, the total electricity bill should be 2250.\n",
    "Ans:\n",
    "units = int(input(\"Enter the units of electricity consumed: \"))\n",
    "if units <= 100:\n",
    "    bill = units * 4.5\n",
    "elif units <= 200:\n",
    "    bill = 100 * 4.5 + (units - 100) * 6\n",
    "elif units <= 300:\n",
    "    bill = 100 * 4.5 + 100 * 6 + (units - 200) * 10\n",
    "else:\n",
    "    bill = 100 * 4.5 + 100 * 6 + 100 * 10 + (units - 300) * 20\n",
    "print(\"The total electricity bill is: Rs.\", bill)\n",
    "\n"
   ]
  },
  {
   "cell_type": "code",
   "execution_count": null,
   "id": "66839777",
   "metadata": {},
   "outputs": [],
   "source": [
    "\n",
    "Q4. Create a list of numbers from 1 to 100. Use for loop and while loop to calculate the cube of each number and if the cube of that number is divisible by 4 or 5 then append that number in a list and print that list.\n",
    "Ans: Here is a program that uses a for loop to create a list of numbers from 1 to 100, and then calculates the cube of each number and appends the numbers that are divisible by 4 or 5 to a new list:\n",
    "numbers = []\n",
    "cube_divisible = []\n",
    "for i in range(1, 101):\n",
    "    numbers.append(i)\n",
    "    cube = i ** 3\n",
    "    if cube % 4 == 0 or cube % 5 == 0:\n",
    "        cube_divisible.append(cube)\n",
    "print(\"The list of cubes that are divisible by 4 or 5:\", cube_divisible)\n",
    "And here is the same program using a while loop:\n",
    "numbers = []\n",
    "cube_divisible = []\n",
    "i = 1\n",
    "while i <= 100:\n",
    "    numbers.append(i)\n",
    "    cube = i ** 3\n",
    "    if cube % 4 == 0 or cube % 5 == 0:\n",
    "        cube_divisible.append(cube)\n",
    "    i += 1\n",
    "print(\"The list of cubes that are divisible by 4 or 5:\", cube_divisible)\n",
    "Both programs will produce the same output, which is the list of cubes of the numbers from 1 to 100 that are divisible by 4 or 5."
   ]
  },
  {
   "cell_type": "code",
   "execution_count": null,
   "id": "d14af20d",
   "metadata": {},
   "outputs": [],
   "source": [
    "5.\n",
    "Write a program to filter count vowels in the below-given string. string = \"I want to become a data scientist\"\n",
    "Ans:\n",
    "string = \"I want to become a data scientist\"\n",
    "vowels = \"aeiouAEIOU\"\n",
    "count = 0\n",
    "for char in string:\n",
    "    if char in vowels:\n",
    "        count += 1\n",
    "print(\"The number of vowels in the string is:\", count)"
   ]
  }
 ],
 "metadata": {
  "kernelspec": {
   "display_name": "Python 3 (ipykernel)",
   "language": "python",
   "name": "python3"
  },
  "language_info": {
   "codemirror_mode": {
    "name": "ipython",
    "version": 3
   },
   "file_extension": ".py",
   "mimetype": "text/x-python",
   "name": "python",
   "nbconvert_exporter": "python",
   "pygments_lexer": "ipython3",
   "version": "3.9.7"
  }
 },
 "nbformat": 4,
 "nbformat_minor": 5
}
